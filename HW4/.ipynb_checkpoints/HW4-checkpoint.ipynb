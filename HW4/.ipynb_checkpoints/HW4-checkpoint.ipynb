{
 "cells": [
  {
   "cell_type": "code",
   "execution_count": null,
   "id": "d3e3f5d2",
   "metadata": {},
   "outputs": [],
   "source": [
    "# Import necessary libraries\n",
    "from pycaret.datasets import get_data\n",
    "from pycaret.classification import *"
   ]
  },
  {
   "cell_type": "code",
   "execution_count": null,
   "id": "d3e3f5d3",
   "metadata": {},
   "outputs": [],
   "source": [
    "# Load the Titanic dataset\n",
    "data = get_data('titanic')"
   ]
  },
  {
   "cell_type": "code",
   "execution_count": null,
   "id": "d3e3f5d4",
   "metadata": {},
   "outputs": [],
   "source": [
    "# Initialize the setup\n",
    "clf1 = setup(data, target='Survived', session_id=123, silent=True, html=False)"
   ]
  },
  {
   "cell_type": "code",
   "execution_count": null,
   "id": "d3e3f5d5",
   "metadata": {},
   "outputs": [],
   "source": [
    "# Compare models\n",
    "best_model = compare_models(n_select=16)"
   ]
  },
  {
   "cell_type": "code",
   "execution_count": null,
   "id": "d3e3f5d6",
   "metadata": {},
   "outputs": [],
   "source": [
    "# Display the best models\n",
    "best_model"
   ]
  }
 ],
 "metadata": {
  "kernelspec": {
   "display_name": "Python 3",
   "language": "python",
   "name": "python3"
  },
  "language_info": {
   "codemirror_mode": {
    "name": "ipython",
    "version": 3
   },
   "file_extension": ".py",
   "mimetype": "text/x-python",
   "name": "python",
   "nbconvert_exporter": "python",
   "pygments_lexer": "ipython3",
   "version": "3.8.5"
  }
 },
 "nbformat": 4,
 "nbformat_minor": 5
}
